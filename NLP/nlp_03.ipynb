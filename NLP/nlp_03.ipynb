{
  "nbformat": 4,
  "nbformat_minor": 0,
  "metadata": {
    "colab": {
      "provenance": []
    },
    "kernelspec": {
      "name": "python3",
      "display_name": "Python 3"
    },
    "language_info": {
      "name": "python"
    }
  },
  "cells": [
    {
      "cell_type": "code",
      "execution_count": 1,
      "metadata": {
        "colab": {
          "base_uri": "https://localhost:8080/"
        },
        "id": "scNFDXXKtwRS",
        "outputId": "3cfee6cf-a095-4427-c770-ed9dcdf08cdc"
      },
      "outputs": [
        {
          "output_type": "stream",
          "name": "stdout",
          "text": [
            "Enter the correct word: abcd\n",
            "Enter the misspelled word: adcd\n",
            "Levenshtein Distance between 'abcd' and 'adcd': 1\n"
          ]
        }
      ],
      "source": [
        "def min_edit_distance(str1, str2):\n",
        "    len1, len2 = len(str1), len(str2)\n",
        "\n",
        "    # Create a matrix to store the distances\n",
        "    dp = [[0] * (len2 + 1) for _ in range(len1 + 1)]\n",
        "\n",
        "    # Initialize the base cases\n",
        "    for i in range(len1 + 1):\n",
        "        dp[i][0] = i  # Deletion cost\n",
        "    for j in range(len2 + 1):\n",
        "        dp[0][j] = j  # Insertion cost\n",
        "\n",
        "    # Fill the matrix using the recursive formula\n",
        "    for i in range(1, len1 + 1):\n",
        "        for j in range(1, len2 + 1):\n",
        "            if str1[i - 1] == str2[j - 1]:\n",
        "                dp[i][j] = dp[i - 1][j - 1]  # No operation needed\n",
        "            else:\n",
        "                dp[i][j] = 1 + min(dp[i - 1][j],    # Deletion\n",
        "                                   dp[i][j - 1],    # Insertion\n",
        "                                   dp[i - 1][j - 1])  # Substitution\n",
        "\n",
        "    return dp[len1][len2]\n",
        "\n",
        "\n",
        "# Main program\n",
        "if __name__ == \"__main__\":\n",
        "    correct_word = input(\"Enter the correct word: \")\n",
        "    misspelled_word = input(\"Enter the misspelled word: \")\n",
        "\n",
        "    # Calculate the Levenshtein distance\n",
        "    distance = min_edit_distance(correct_word, misspelled_word)\n",
        "\n",
        "    # Display the result\n",
        "    print(f\"Levenshtein Distance between '{correct_word}' and '{misspelled_word}': {distance}\")\n"
      ]
    },
    {
      "cell_type": "code",
      "source": [],
      "metadata": {
        "id": "YXpuNMP7txYz"
      },
      "execution_count": null,
      "outputs": []
    }
  ]
}