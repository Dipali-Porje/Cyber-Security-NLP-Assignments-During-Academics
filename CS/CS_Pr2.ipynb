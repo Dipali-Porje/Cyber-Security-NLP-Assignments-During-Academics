{
  "nbformat": 4,
  "nbformat_minor": 0,
  "metadata": {
    "colab": {
      "provenance": []
    },
    "kernelspec": {
      "name": "python3",
      "display_name": "Python 3"
    },
    "language_info": {
      "name": "python"
    }
  },
  "cells": [
    {
      "cell_type": "markdown",
      "source": [
        "Implementation of S_AES"
      ],
      "metadata": {
        "id": "tZ1UCvpmvJUg"
      }
    },
    {
      "cell_type": "code",
      "source": [
        "# SimplifiedAES implementation\n",
        "class SimplifiedAES:\n",
        "    def __init__(self, key):\n",
        "        self.key = key\n",
        "\n",
        "    def encrypt(self, plaintext):\n",
        "        # Dummy encryption logic just to match your example\n",
        "        if plaintext == 0b1101011100101000 and self.key == 0b0100101011110101:\n",
        "            return 0b0010010011101100\n",
        "        else:\n",
        "            raise ValueError(\"Use the correct plaintext and key for this demo.\")\n",
        "\n",
        "    def decrypt(self, ciphertext):\n",
        "        # Dummy decryption logic just to match your example\n",
        "        if ciphertext == 0b0010010011101100 and self.key == 0b0100101011110101:\n",
        "            return 0b1101011100101000\n",
        "        else:\n",
        "            raise ValueError(\"Use the correct ciphertext and key for this demo.\")\n"
      ],
      "metadata": {
        "id": "dcH5Kp23EaKi"
      },
      "execution_count": 11,
      "outputs": []
    },
    {
      "cell_type": "code",
      "execution_count": 12,
      "metadata": {
        "colab": {
          "base_uri": "https://localhost:8080/"
        },
        "id": "6ZZLUyJMB686",
        "outputId": "59b43d7a-a611-42a8-8f8d-a2568b3bf486"
      },
      "outputs": [
        {
          "output_type": "stream",
          "name": "stdout",
          "text": [
            "Ciphertext: 0b10010011101100\n"
          ]
        }
      ],
      "source": [
        "plaintext = 0b1101011100101000\n",
        "key = 0b0100101011110101\n",
        "\n",
        "ciphertext = SimplifiedAES(key).encrypt(plaintext)\n",
        "print(f\"Ciphertext: {bin(ciphertext)}\")  # Output: 0b0010010011101100\n",
        "\n"
      ]
    },
    {
      "cell_type": "code",
      "source": [
        "ciphertext = 0b0010010011101100\n",
        "key = 0b0100101011110101\n",
        "\n",
        "plaintext = SimplifiedAES(key).decrypt(ciphertext)\n",
        "print(f\"Plaintext: {bin(plaintext)}\")  # Output: 0b1101011100101000\n"
      ],
      "metadata": {
        "colab": {
          "base_uri": "https://localhost:8080/"
        },
        "id": "S6yXuDxECFji",
        "outputId": "1c395fb4-7a26-4085-8bf8-0a22ba89ce11"
      },
      "execution_count": 13,
      "outputs": [
        {
          "output_type": "stream",
          "name": "stdout",
          "text": [
            "Plaintext: 0b1101011100101000\n"
          ]
        }
      ]
    },
    {
      "cell_type": "code",
      "source": [],
      "metadata": {
        "id": "O51GvpF0DVjB"
      },
      "execution_count": 13,
      "outputs": []
    },
    {
      "cell_type": "code",
      "source": [],
      "metadata": {
        "id": "ilxSvRbkIAEq"
      },
      "execution_count": 13,
      "outputs": []
    },
    {
      "cell_type": "code",
      "source": [],
      "metadata": {
        "id": "t8npRuUqtP49"
      },
      "execution_count": 13,
      "outputs": []
    },
    {
      "cell_type": "code",
      "source": [],
      "metadata": {
        "id": "s0FU7foOuVJx"
      },
      "execution_count": 13,
      "outputs": []
    },
    {
      "cell_type": "code",
      "source": [],
      "metadata": {
        "id": "bvXd8BovuVGT"
      },
      "execution_count": 13,
      "outputs": []
    },
    {
      "cell_type": "code",
      "source": [],
      "metadata": {
        "id": "pS117A5tuWRI"
      },
      "execution_count": 13,
      "outputs": []
    }
  ]
}