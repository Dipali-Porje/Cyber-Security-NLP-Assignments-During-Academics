{
 "cells": [
  {
   "cell_type": "code",
   "execution_count": 11,
   "metadata": {
    "executionInfo": {
     "elapsed": 3,
     "status": "ok",
     "timestamp": 1742800783106,
     "user": {
      "displayName": "dipali porje",
      "userId": "15697648671118973123"
     },
     "user_tz": -330
    },
    "id": "rOyhIOW-ANW3"
   },
   "outputs": [],
   "source": [
    "#Practical No 3\n",
    "#  implementation of RSA algorithm\n",
    "\n",
    "import random\n",
    "def generate_keypair(p, q):\n",
    "    n = p * q\n",
    "    phi = (p - 1) * (q - 1)\n",
    "    e = random.randrange(1, phi)\n",
    "    gcd_result = gcd(e, phi)\n",
    "    while gcd_result != 1:\n",
    "        e = random.randrange(1, phi)\n",
    "        gcd_result = gcd(e, phi)\n",
    "    d = modinv(e, phi)\n",
    "    return ((e, n), (d, n))\n"
   ]
  },
  {
   "cell_type": "code",
   "execution_count": 12,
   "metadata": {
    "executionInfo": {
     "elapsed": 6,
     "status": "ok",
     "timestamp": 1742800784967,
     "user": {
      "displayName": "dipali porje",
      "userId": "15697648671118973123"
     },
     "user_tz": -330
    },
    "id": "Zy1zg1_gASXC"
   },
   "outputs": [],
   "source": [
    "def gcd(a, b):\n",
    "    while b != 0:\n",
    "        a, b = b, a % b\n",
    "    return a\n",
    "\n",
    "def modinv(a, m):\n",
    "    g, x, y = egcd(a, m)\n",
    "    if g != 1:\n",
    "        raise Exception('modular inverse does not exist')\n",
    "    return x % m\n"
   ]
  },
  {
   "cell_type": "code",
   "execution_count": 13,
   "metadata": {
    "executionInfo": {
     "elapsed": 3,
     "status": "ok",
     "timestamp": 1742800786988,
     "user": {
      "displayName": "dipali porje",
      "userId": "15697648671118973123"
     },
     "user_tz": -330
    },
    "id": "tpkHep7LAXXY"
   },
   "outputs": [],
   "source": [
    "def egcd(a, b):\n",
    "    if a == 0:\n",
    "        return (b, 0, 1)\n",
    "    else:\n",
    "        gcd, x, y = egcd(b % a, a)\n",
    "        return (gcd, y - (b // a) * x, x)\n",
    "\n"
   ]
  },
  {
   "cell_type": "code",
   "execution_count": 14,
   "metadata": {
    "executionInfo": {
     "elapsed": 49,
     "status": "ok",
     "timestamp": 1742800788571,
     "user": {
      "displayName": "dipali porje",
      "userId": "15697648671118973123"
     },
     "user_tz": -330
    },
    "id": "hoZlqjMHAbK4"
   },
   "outputs": [],
   "source": [
    "def encrypt(pk, plaintext):\n",
    "    e, n = pk\n",
    "    cipher = [pow(ord(char), e, n) for char in plaintext]\n",
    "    return cipher\n",
    "\n",
    "def decrypt(pk, ciphertext):\n",
    "    d, n = pk\n",
    "    plain = [chr(pow(char, d, n)) for char in ciphertext]\n",
    "    return ''.join(plain)\n"
   ]
  },
  {
   "cell_type": "code",
   "execution_count": 20,
   "metadata": {
    "colab": {
     "base_uri": "https://localhost:8080/"
    },
    "executionInfo": {
     "elapsed": 8386,
     "status": "ok",
     "timestamp": 1742800902617,
     "user": {
      "displayName": "dipali porje",
      "userId": "15697648671118973123"
     },
     "user_tz": -330
    },
    "id": "BP3L80onAgu5",
    "outputId": "3b11375b-305f-4807-80f3-416b4358537a"
   },
   "outputs": [
    {
     "name": "stdout",
     "output_type": "stream",
     "text": [
      "Enter a prime number (p): 7\n",
      "Enter another prime number (q): 13\n",
      "Public key:  (53, 91)\n",
      "Private key:  (53, 91)\n",
      "Enter a message to encrypt with the public key: hii\n",
      "Encrypted message:  [13, 14, 14]\n",
      "\u000e\u000e\n"
     ]
    }
   ],
   "source": [
    "if __name__ == '__main__':\n",
    "    p = int(input(\"Enter a prime number (p): \"))\n",
    "    q = int(input(\"Enter another prime number (q): \"))\n",
    "    public, private = generate_keypair(p, q)\n",
    "    print(\"Public key: \", public)\n",
    "    print(\"Private key: \", private)\n",
    "    message = input(\"Enter a message to encrypt with the public key: \")\n",
    "ciphertext = encrypt(public, message)\n",
    "print(\"Encrypted message: \", ciphertext)\n",
    "plaintext = decrypt(private, ciphertext)\n",
    "print(\"Decrypted message: \", plaintext)\n"
   ]
  },
  {
   "cell_type": "code",
   "execution_count": 19,
   "metadata": {
    "colab": {
     "base_uri": "https://localhost:8080/"
    },
    "executionInfo": {
     "elapsed": 3387,
     "status": "ok",
     "timestamp": 1742800883447,
     "user": {
      "displayName": "dipali porje",
      "userId": "15697648671118973123"
     },
     "user_tz": -330
    },
    "id": "ynqFlhhfAjMI",
    "outputId": "8215d503-7c0a-49ad-e52f-38033f335075"
   },
   "outputs": [
    {
     "name": "stdout",
     "output_type": "stream",
     "text": [
      "Enter a message to encrypt with the public key: hiii\n",
      "Encrypted message:  [13, 14, 14, 14]\n",
      "\u000e\u000e\u000e\n"
     ]
    }
   ],
   "source": [
    "message = input(\"Enter a message to encrypt with the public key: \")\n",
    "ciphertext = encrypt(public, message)\n",
    "print(\"Encrypted message: \", ciphertext)\n",
    "plaintext = decrypt(private, ciphertext)\n",
    "print(\"Decrypted message: \", plaintext)"
   ]
  },
  {
   "cell_type": "code",
   "execution_count": null,
   "metadata": {
    "id": "nXZjxNgeBsBI"
   },
   "outputs": [],
   "source": []
  }
 ],
 "metadata": {
  "colab": {
   "authorship_tag": "ABX9TyPcEDpnQ2pCesABYzBEkUq8",
   "provenance": []
  },
  "kernelspec": {
   "display_name": "Python 3",
   "name": "python3"
  },
  "language_info": {
   "name": "python"
  }
 },
 "nbformat": 4,
 "nbformat_minor": 0
}
