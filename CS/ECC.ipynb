{
  "cells": [
    {
      "cell_type": "markdown",
      "metadata": {
        "id": "7R3RGZZAvpJD"
      },
      "source": [
        "Implementation of ECC algorithm"
      ]
    },
    {
      "cell_type": "code",
      "execution_count": null,
      "metadata": {
        "colab": {
          "base_uri": "https://localhost:8080/"
        },
        "id": "staPHURQwAnN",
        "outputId": "68907ead-801e-49e5-b85b-f1431c319dfe"
      },
      "outputs": [
        {
          "name": "stdout",
          "output_type": "stream",
          "text": [
            "Collecting tinyec\n",
            "  Downloading tinyec-0.4.0.tar.gz (24 kB)\n",
            "  Preparing metadata (setup.py) ... \u001b[?25l\u001b[?25hdone\n",
            "Building wheels for collected packages: tinyec\n",
            "  Building wheel for tinyec (setup.py) ... \u001b[?25l\u001b[?25hdone\n",
            "  Created wheel for tinyec: filename=tinyec-0.4.0-py3-none-any.whl size=20878 sha256=3f4fd888c7b8c6e89758b45da9d1cc0894a7a0022697d3448af879cc19ff87aa\n",
            "  Stored in directory: /root/.cache/pip/wheels/db/86/a7/922d884ea8657b29b0231d6566159462328473186637fcc02e\n",
            "Successfully built tinyec\n",
            "Installing collected packages: tinyec\n",
            "Successfully installed tinyec-0.4.0\n"
          ]
        }
      ],
      "source": [
        "!pip install tinyec"
      ]
    },
    {
      "cell_type": "code",
      "execution_count": 4,
      "metadata": {
        "colab": {
          "base_uri": "https://localhost:8080/"
        },
        "id": "917wiQInvmsA",
        "outputId": "a69f5ce4-01a1-4541-9807-cd086ea0ed62"
      },
      "outputs": [
        {
          "name": "stdout",
          "output_type": "stream",
          "text": [
            "private key: 0x98de7b7c36a1fc86e6b9021dd5e9699278d7a10ee199ea072be6d76a96aa4984\n",
            "\n",
            "public key: 0x7c292cfe5a2af79e20c0028ac2dcd505a8ae0881bf4132d705fb87833a184f520\n",
            "\n",
            "ciphertext pubKey: 0x3280bfabbb33e30b29a09c4ee20cc490fb921a020834b7adc42d33b14ad38f931\n",
            "\n",
            "encryption key: 0x881280160912a25ae0b2ec71333487e056192553e7732f1248c7c0a7c74e124b0\n",
            "\n",
            "decryption key: 0x881280160912a25ae0b2ec71333487e056192553e7732f1248c7c0a7c74e124b0\n"
          ]
        }
      ],
      "source": [
        "from tinyec import registry\n",
        "import secrets\n",
        "\n",
        "curve = registry.get_curve('brainpoolP256r1')\n",
        "\n",
        "def compress_point(point):\n",
        "    return hex(point.x) + hex(point.y % 2)[2:]\n",
        "\n",
        "def ecc_calc_encryption_keys(pubKey):\n",
        "    ciphertextPrivKey = secrets.randbelow(curve.field.n)\n",
        "    ciphertextPubKey = ciphertextPrivKey * curve.g\n",
        "    sharedECCKey = pubKey * ciphertextPrivKey\n",
        "    return (sharedECCKey, ciphertextPubKey)\n",
        "\n",
        "def ecc_calc_decryption_key(privKey, ciphertextPubKey):\n",
        "    sharedECCKey = ciphertextPubKey * privKey\n",
        "    return sharedECCKey\n",
        "\n",
        "privKey = secrets.randbelow(curve.field.n)\n",
        "pubKey = privKey * curve.g\n",
        "print(\"private key:\", hex(privKey))\n",
        "print(\"\\npublic key:\", compress_point(pubKey))\n",
        "\n",
        "(encryptKey, ciphertextPubKey) = ecc_calc_encryption_keys(pubKey)\n",
        "print(\"\\nciphertext pubKey:\", compress_point(ciphertextPubKey))\n",
        "print(\"\\nencryption key:\", compress_point(encryptKey))\n",
        "\n",
        "decryptKey = ecc_calc_decryption_key(privKey, ciphertextPubKey)\n",
        "print(\"\\ndecryption key:\", compress_point(decryptKey))\n",
        "\n"
      ]
    },
    {
      "cell_type": "code",
      "execution_count": null,
      "metadata": {
        "id": "6rVSsZ-dvnsk"
      },
      "outputs": [],
      "source": []
    }
  ],
  "metadata": {
    "colab": {
      "provenance": []
    },
    "kernelspec": {
      "display_name": "Python 3",
      "name": "python3"
    },
    "language_info": {
      "name": "python"
    }
  },
  "nbformat": 4,
  "nbformat_minor": 0
}
