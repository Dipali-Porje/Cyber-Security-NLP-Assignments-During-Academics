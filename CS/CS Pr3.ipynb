{
 "cells": [
  {
   "cell_type": "code",
   "execution_count": 1,
   "metadata": {
    "executionInfo": {
     "elapsed": 10,
     "status": "ok",
     "timestamp": 1742800314433,
     "user": {
      "displayName": "dipali porje",
      "userId": "15697648671118973123"
     },
     "user_tz": -330
    },
    "id": "FR_ZOFK0_O6M"
   },
   "outputs": [],
   "source": [
    "#Implementation of Diffie-Hellman key exchange\n",
    "\n",
    "import random\n",
    "def generate_key (p, g, x):\n",
    "    return (g ** x) % p\n",
    "\n",
    "def generate_shared_secret(p, key, x):\n",
    "    return (key ** x) % p\n"
   ]
  },
  {
   "cell_type": "code",
   "execution_count": 2,
   "metadata": {
    "executionInfo": {
     "elapsed": 6,
     "status": "ok",
     "timestamp": 1742800314449,
     "user": {
      "displayName": "dipali porje",
      "userId": "15697648671118973123"
     },
     "user_tz": -330
    },
    "id": "dFnhq052_Zd5"
   },
   "outputs": [],
   "source": [
    "# Generate random prime number p\n",
    "p = random.randint(1000, 5000)\n",
    "while True:\n",
    "    if all(p % i != 0 for i in range(2, int(p ** 0.5) + 1)):\n",
    "        break\n",
    "    p += 1\n"
   ]
  },
  {
   "cell_type": "code",
   "execution_count": 3,
   "metadata": {
    "executionInfo": {
     "elapsed": 20,
     "status": "ok",
     "timestamp": 1742800314471,
     "user": {
      "displayName": "dipali porje",
      "userId": "15697648671118973123"
     },
     "user_tz": -330
    },
    "id": "ncFk7oiK_fjQ"
   },
   "outputs": [],
   "source": [
    "\n",
    "# Generate random primitive root g\n",
    "g = random.randint(2, p-2)\n",
    "while pow(g, (p-1)//2, p) == 1:\n",
    "    g = random.randint(2, p-2)\n",
    "\n",
    "# Generate random private keys\n",
    "a = random.randint(2, p-1)\n",
    "b = random.randint(2, p-1)\n",
    "\n",
    "# Generate public keys\n",
    "A = generate_key(p, g, a)\n",
    "B = generate_key(p, g, b)\n",
    "\n",
    "# Generate shared secret keys\n",
    "s1 = generate_shared_secret(p, B, a)\n",
    "s2 = generate_shared_secret(p, A, b)\n"
   ]
  },
  {
   "cell_type": "code",
   "execution_count": 5,
   "metadata": {
    "colab": {
     "base_uri": "https://localhost:8080/"
    },
    "executionInfo": {
     "elapsed": 6,
     "status": "ok",
     "timestamp": 1742800350634,
     "user": {
      "displayName": "dipali porje",
      "userId": "15697648671118973123"
     },
     "user_tz": -330
    },
    "id": "NB0nyRWQ_kr_",
    "outputId": "12bb6afb-ae76-41a7-f58e-2d639c99105f"
   },
   "outputs": [
    {
     "name": "stdout",
     "output_type": "stream",
     "text": [
      "p: 1567\n",
      "\n",
      "g: 119\n",
      "\n",
      "a: 1175\n",
      "\n",
      "A: 751\n",
      "\n",
      "b: 1283\n",
      "\n",
      "B: 216\n",
      "\n",
      "s1: 554\n",
      "\n",
      "s2: 554\n"
     ]
    }
   ],
   "source": [
    "\n",
    "# Print the keys\n",
    "print(\"p:\", p)\n",
    "print(\"\\ng:\", g)\n",
    "print(\"\\na:\", a)\n",
    "print(\"\\nA:\", A)\n",
    "print(\"\\nb:\", b)\n",
    "print(\"\\nB:\", B)\n",
    "print(\"\\ns1:\", s1)\n",
    "print(\"\\ns2:\", s2)\n"
   ]
  },
  {
   "cell_type": "code",
   "execution_count": null,
   "metadata": {
    "id": "mkHo1uB1_o0g"
   },
   "outputs": [],
   "source": []
  }
 ],
 "metadata": {
  "colab": {
   "authorship_tag": "ABX9TyMVcViKhWsN8nOJ65cmSLPo",
   "provenance": []
  },
  "kernelspec": {
   "display_name": "Python 3",
   "name": "python3"
  },
  "language_info": {
   "name": "python"
  }
 },
 "nbformat": 4,
 "nbformat_minor": 0
}
